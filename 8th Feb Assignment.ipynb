{
 "cells": [
  {
   "cell_type": "markdown",
   "id": "cfbe9d0d-80b0-460d-a8e3-0d43989d786f",
   "metadata": {},
   "source": [
    "Q1. What is Abstraction in OOps? Explain with an example.\n",
    "\n",
    "Answer:\n",
    "Abstraction is the way of hiding unwanted information. It is the way of showing only the necessary information.\n",
    "It can be achieved by making the variables , methods as private or protected . Thus access modifiers like private or protected play an important role in achieving abstraction.\n",
    "Example:"
   ]
  },
  {
   "cell_type": "code",
   "execution_count": 19,
   "id": "c246ca12-01d4-4354-8b65-7aa206b4aff6",
   "metadata": {},
   "outputs": [],
   "source": [
    "class Raj:\n",
    "    def __init__(self,name,rollno):\n",
    "        self.__name=name;\n",
    "        self.rollno=rollno;"
   ]
  },
  {
   "cell_type": "code",
   "execution_count": 20,
   "id": "567c9c45-225f-42f8-859a-93068b98f61c",
   "metadata": {},
   "outputs": [],
   "source": [
    "r=Raj(\"raj\",1901229078)"
   ]
  },
  {
   "cell_type": "code",
   "execution_count": 21,
   "id": "15e73396-75e9-46ce-94f0-220a7d3b2012",
   "metadata": {},
   "outputs": [
    {
     "data": {
      "text/plain": [
       "1901229078"
      ]
     },
     "execution_count": 21,
     "metadata": {},
     "output_type": "execute_result"
    }
   ],
   "source": [
    "r.rollno"
   ]
  },
  {
   "cell_type": "code",
   "execution_count": 22,
   "id": "088ca2ac-b2ca-4698-ac51-036241911314",
   "metadata": {},
   "outputs": [
    {
     "ename": "AttributeError",
     "evalue": "'Raj' object has no attribute 'name'",
     "output_type": "error",
     "traceback": [
      "\u001b[0;31m---------------------------------------------------------------------------\u001b[0m",
      "\u001b[0;31mAttributeError\u001b[0m                            Traceback (most recent call last)",
      "Cell \u001b[0;32mIn[22], line 1\u001b[0m\n\u001b[0;32m----> 1\u001b[0m \u001b[43mr\u001b[49m\u001b[38;5;241;43m.\u001b[39;49m\u001b[43mname\u001b[49m\n",
      "\u001b[0;31mAttributeError\u001b[0m: 'Raj' object has no attribute 'name'"
     ]
    }
   ],
   "source": [
    "r.name"
   ]
  },
  {
   "cell_type": "markdown",
   "id": "cab24467-84da-4502-ac7e-f88f3ae72b22",
   "metadata": {},
   "source": [
    "Q2. Differentiate between Abstraction and Encapsulation. Explain with an example.\n",
    "\n",
    "Answer:\n",
    "\n"
   ]
  },
  {
   "cell_type": "markdown",
   "id": "3243d55d-9f85-47a4-88fc-9e0b41eea3e8",
   "metadata": {},
   "source": [
    "# This is an example of abstraction , here we cant call a and b outside as they are declared private"
   ]
  },
  {
   "cell_type": "code",
   "execution_count": 1,
   "id": "7dce62c2-0274-4130-a588-52960118fb92",
   "metadata": {},
   "outputs": [],
   "source": [
    "class sum:\n",
    "    def __init__(self,a,b):\n",
    "        self.__a=a;\n",
    "        self.__b=b;\n",
    "        print(\"the sum is \",(self.__a+self.__b));"
   ]
  },
  {
   "cell_type": "code",
   "execution_count": 2,
   "id": "12cb3e32-ed7f-4891-a4f7-5af4d78f1585",
   "metadata": {},
   "outputs": [
    {
     "name": "stdout",
     "output_type": "stream",
     "text": [
      "the sum is  15\n"
     ]
    }
   ],
   "source": [
    "s=sum(5,10)"
   ]
  },
  {
   "cell_type": "code",
   "execution_count": 3,
   "id": "4753a06c-afea-4887-8a84-0df470fcfdb7",
   "metadata": {},
   "outputs": [
    {
     "ename": "AttributeError",
     "evalue": "'sum' object has no attribute 'a'",
     "output_type": "error",
     "traceback": [
      "\u001b[0;31m---------------------------------------------------------------------------\u001b[0m",
      "\u001b[0;31mAttributeError\u001b[0m                            Traceback (most recent call last)",
      "Cell \u001b[0;32mIn[3], line 1\u001b[0m\n\u001b[0;32m----> 1\u001b[0m \u001b[43ms\u001b[49m\u001b[38;5;241;43m.\u001b[39;49m\u001b[43ma\u001b[49m\n",
      "\u001b[0;31mAttributeError\u001b[0m: 'sum' object has no attribute 'a'"
     ]
    }
   ],
   "source": [
    "s.a"
   ]
  },
  {
   "cell_type": "markdown",
   "id": "ad2f6511-1b02-4231-aa0a-b9725d025cfe",
   "metadata": {},
   "source": [
    "# lets see the example of encapsulation:"
   ]
  },
  {
   "cell_type": "code",
   "execution_count": 9,
   "id": "3ce9d8bc-93bf-411c-8981-0f8fd2992470",
   "metadata": {},
   "outputs": [],
   "source": [
    "class sum:\n",
    "    def __init__(self,a,b):\n",
    "        self.__a=a;\n",
    "        self.__b=b;\n",
    "    def get(self):\n",
    "        return self.__a;"
   ]
  },
  {
   "cell_type": "code",
   "execution_count": 10,
   "id": "1449cc28-edd9-464d-a031-5c0c98811a2f",
   "metadata": {},
   "outputs": [],
   "source": [
    "s=sum(5,10);"
   ]
  },
  {
   "cell_type": "code",
   "execution_count": 11,
   "id": "48bb34bc-beaa-4bf5-a43f-55a9df313e75",
   "metadata": {},
   "outputs": [
    {
     "data": {
      "text/plain": [
       "5"
      ]
     },
     "execution_count": 11,
     "metadata": {},
     "output_type": "execute_result"
    }
   ],
   "source": [
    "s.get()"
   ]
  },
  {
   "cell_type": "markdown",
   "id": "6b7e6878-1d8d-4b48-a1e5-70f1dd7ddc9a",
   "metadata": {},
   "source": [
    "# above a is  declared private. get and a are binded together that is nothing except encapsulation. "
   ]
  },
  {
   "cell_type": "markdown",
   "id": "95560fe7-3ce3-4bbb-9c47-44425c2fb40f",
   "metadata": {},
   "source": [
    "Q3. What is abc module in python? Why is it used?\n",
    "\n",
    "Answer:\n",
    "\n",
    "abc:\n",
    "It is a helper class. we can use it in the area where we want to avoid the confusion of metaclass usage.Abstract base classes are a powerful feature in Python since they help you define a blueprint for other classes that may have something in common. The 'abc' module in the Python library provides the infrastructure for defining custom abstract base classes."
   ]
  },
  {
   "cell_type": "code",
   "execution_count": 12,
   "id": "37a5e48e-e838-4f60-8ec6-845324795c27",
   "metadata": {},
   "outputs": [
    {
     "name": "stdout",
     "output_type": "stream",
     "text": [
      "area:  200\n"
     ]
    }
   ],
   "source": [
    "import abc\n",
    "class Shape(metaclass=abc.ABCMeta):\n",
    "   @abc.abstractmethod\n",
    "   def area(self):\n",
    "      pass\n",
    "class Rectangle(Shape):\n",
    "   def __init__(self, x,y):\n",
    "      self.l = x\n",
    "      self.b=y\n",
    "   def area(self):\n",
    "      return self.l*self.b\n",
    "r = Rectangle(10,20)\n",
    "print ('area: ',r.area())"
   ]
  },
  {
   "cell_type": "markdown",
   "id": "5d5a4ef2-71a9-446f-8920-aa7a7cef83c2",
   "metadata": {},
   "source": [
    "Q4. How can we achieve data abstraction?\n",
    "\n",
    "Answer:\n",
    "Data Abstraction can be achieved by decalring the class members and functions as private and protected."
   ]
  },
  {
   "cell_type": "markdown",
   "id": "66c21f48-c099-4f2f-814f-8484fef67e68",
   "metadata": {},
   "source": [
    "Q5. Can we create an instance of an abstract class? Explain your answer.\n",
    "\n",
    "Answer:\n",
    "\n",
    "Abstract classes cannot be instantiated, but they can be subclassed. When an abstract class is subclassed, the subclass usually provides implementations for all of the abstract methods in its parent class. However, if it does not, then the subclass must also be declared abstract ."
   ]
  }
 ],
 "metadata": {
  "kernelspec": {
   "display_name": "Python 3 (ipykernel)",
   "language": "python",
   "name": "python3"
  },
  "language_info": {
   "codemirror_mode": {
    "name": "ipython",
    "version": 3
   },
   "file_extension": ".py",
   "mimetype": "text/x-python",
   "name": "python",
   "nbconvert_exporter": "python",
   "pygments_lexer": "ipython3",
   "version": "3.10.8"
  }
 },
 "nbformat": 4,
 "nbformat_minor": 5
}
