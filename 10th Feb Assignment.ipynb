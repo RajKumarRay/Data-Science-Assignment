{
 "cells": [
  {
   "cell_type": "markdown",
   "id": "e2d9640e-e313-4110-b589-267c426e1093",
   "metadata": {},
   "source": [
    "Q1. Which function is used to open a file? What are the different modes of opening a file? Explain each mode\n",
    "of file opening."
   ]
  },
  {
   "cell_type": "markdown",
   "id": "9ca67bda-3646-4c0e-ab42-6d3349258748",
   "metadata": {},
   "source": [
    "Before performing any operation (like read or write) on the file,first we have to open that file.For this we should use Python's inbuilt function open() But at the time of open, we have to specify mode,which represents the purpose of opening file.\n",
    "\n",
    "Sytax1 : f = open(filename, mode)\n",
    "\n",
    "Syntax2: with open(filename,moded) as f:\n",
    "\n",
    "The allowed modes in Python are\n",
    "\n",
    "r : open an existing file for read operation. The file pointer is positioned at the beginning of the file.If the specified file does not exist then we will get FileNotFoundError.This is default mode\n",
    "\n",
    "w : open an existing file for write operation. If the file already contains some data then it will be overridden. If the specified file is not already avaialble then this mode will create that file.\n",
    "\n",
    "a : open an existing file for append operation. It won't override existing data.If the specified file is not already avaialble then this mode will create a new file.\n",
    "\n",
    "r+ : To read and write data into the file. The previous data in the file will not be deleted.The file pointer is placed at the beginning of the file.\n",
    "\n",
    "w+ : To write and read data. It will override existing data.\n",
    "\n",
    "a+ : To append and read data from the file.It wont override existing data.\n",
    "\n",
    "x : To open a file in exclusive creation mode for write operation. If the file already\n",
    "\n",
    "exists then we will get FileExistsError.\n",
    "\n",
    "Note: All the above modes are applicable for text files. If the above modes suffixed with 'b' then these represents for binary files. Eg: rb,wb,ab,r+b,w+b,a+b,xb"
   ]
  },
  {
   "cell_type": "code",
   "execution_count": null,
   "id": "7dafc1fe-82d7-4794-8979-cd311e4f70ee",
   "metadata": {},
   "outputs": [],
   "source": []
  },
  {
   "cell_type": "markdown",
   "id": "0910bb11-5196-4dff-a1c8-aedbdedaf612",
   "metadata": {},
   "source": [
    "Q2. Why close() function is used? Why is it important to close a file?"
   ]
  },
  {
   "cell_type": "markdown",
   "id": "fa83a1f4-8a2d-4bdc-a344-fd345c9296c9",
   "metadata": {},
   "source": [
    "The close() function is used to close an open file in Python.\n",
    "\n",
    "It's important to close a file in Python for several reasons:\n",
    "\n",
    "1)Releasing resources: When you open a file, your system reserves resources, such as memory, for that file. Closing the file frees up those resources for other tasks.\n",
    "\n",
    "2)Preventing data corruption: When you write to a file, the data is not immediately written to the file system. It's stored in a buffer, which is flushed to the file system when the file is closed. If you don't close a file properly, the data in the buffer may not be written to the file, leading to data corruption.\n",
    "\n",
    "3)Avoiding file lock issues: When you open a file, it's locked for use by the current process. If you don't close the file, other processes may not be able to access it, leading to file lock issues.\n",
    "\n",
    "4)Proper file management: Properly closing files helps ensure that the file system remains in a consistent state. If you don't close a file, the file may remain open, even after the Python process has exited, which can lead to unexpected behavior in other programs that try to access the file.\n",
    "\n",
    "Here's an example of how to properly close a file in Python:\n",
    "\n",
    "Open a file for reading file = open(\"file.txt\", \"r\")\n",
    "\n",
    "Read the contents of the file data = file.read()\n",
    "\n",
    "Do something with the data ...\n",
    "\n",
    "Close the file file.close()\n",
    "\n",
    "In this example, the file is opened for reading, the contents are read, and the file is then properly closed."
   ]
  },
  {
   "cell_type": "code",
   "execution_count": null,
   "id": "bbad3e35-74d3-471a-a868-0cf440340041",
   "metadata": {},
   "outputs": [],
   "source": []
  },
  {
   "cell_type": "markdown",
   "id": "c0b30192-b5fa-4d4c-906f-49b874225395",
   "metadata": {},
   "source": [
    "Q3. Write a python program to create a text file. Write ‘I want to become a Data Scientist’ in that file. Then\n",
    "close the file. Open this file and read the content of the file."
   ]
  },
  {
   "cell_type": "code",
   "execution_count": 1,
   "id": "1b3a130d-69d1-4406-8cc8-b63d0c61b7d5",
   "metadata": {},
   "outputs": [],
   "source": [
    "f = open(\"test.txt\",\"w\")\n",
    "f.write(\"I want to become a Data scientist\")   #writing in file\n",
    "f.close()\n",
    "f1 = open(\"test.txt\",\"r\")  # reading\n",
    "f1.read()\n",
    "f1.close()"
   ]
  },
  {
   "cell_type": "code",
   "execution_count": null,
   "id": "e07a0b65-f69a-4ab5-9b2d-363f4fe12ffc",
   "metadata": {},
   "outputs": [],
   "source": []
  },
  {
   "cell_type": "markdown",
   "id": "c29b8db0-803d-4d5c-b85f-9451c7651558",
   "metadata": {},
   "source": [
    "Q4. Explain the following with python code: read(), readline() and readlines()."
   ]
  },
  {
   "cell_type": "markdown",
   "id": "a6115afa-2e0c-4405-a8d3-49f9e8fe172a",
   "metadata": {},
   "source": [
    "The read(), readline(), and readlines() functions are used to read the contents of a file in Python. Here's a brief explanation of each function:\n",
    "\n",
    "1.read() - The read() function reads the entire contents of the file as a single string. Here's an example:"
   ]
  },
  {
   "cell_type": "code",
   "execution_count": 2,
   "id": "4c609e24-592b-4c1d-826a-c32a3633d174",
   "metadata": {},
   "outputs": [
    {
     "name": "stdout",
     "output_type": "stream",
     "text": [
      "I want to become a Data scientist\n"
     ]
    }
   ],
   "source": [
    "# Open a file for reading\n",
    "with open(\"test.txt\", \"r\") as file:\n",
    "    content = file.read()\n",
    "    print(content)"
   ]
  },
  {
   "cell_type": "markdown",
   "id": "55919150-3ae3-497d-9fc5-97de2b0ce16e",
   "metadata": {},
   "source": [
    "2.readline() - The readline() function reads a single line from the file. Here's an example:"
   ]
  },
  {
   "cell_type": "code",
   "execution_count": 3,
   "id": "bc76b214-6f71-4d11-9ca1-4efd2c2762f3",
   "metadata": {},
   "outputs": [
    {
     "name": "stdout",
     "output_type": "stream",
     "text": [
      "I want to become a Data scientist\n"
     ]
    }
   ],
   "source": [
    "# Open a file for reading\n",
    "with open(\"test.txt\", \"r\") as file:\n",
    "    line = file.readline()\n",
    "    while line:\n",
    "        print(line)\n",
    "        line = file.readline()"
   ]
  },
  {
   "cell_type": "markdown",
   "id": "351bee5f-f5dd-4a85-b15f-26067a29a1d0",
   "metadata": {},
   "source": [
    "3.readlines() - The readlines() function reads the entire contents of the file as a list of strings, where each element of the list corresponds to a single line in the file. Here's an example:"
   ]
  },
  {
   "cell_type": "code",
   "execution_count": null,
   "id": "033c5773-3110-43ea-a922-1753fca90551",
   "metadata": {},
   "outputs": [],
   "source": [
    "# Open a file for reading\n",
    "with open(\"test.txt\", \"r\") as file:\n",
    "    lines = file.readlines()\n",
    "    for line in lines:\n",
    "        print(line)"
   ]
  },
  {
   "cell_type": "code",
   "execution_count": null,
   "id": "d558ccb3-f56b-4ef1-af54-4deb6ebc3f6e",
   "metadata": {},
   "outputs": [],
   "source": []
  },
  {
   "cell_type": "markdown",
   "id": "08512315-183d-4d31-9793-bef80d5ea4d6",
   "metadata": {},
   "source": [
    "Q5. Explain why with statement is used with open(). What is the advantage of using with statement and\n",
    "open() together?"
   ]
  }
 ],
 "metadata": {
  "kernelspec": {
   "display_name": "Python 3 (ipykernel)",
   "language": "python",
   "name": "python3"
  },
  "language_info": {
   "codemirror_mode": {
    "name": "ipython",
    "version": 3
   },
   "file_extension": ".py",
   "mimetype": "text/x-python",
   "name": "python",
   "nbconvert_exporter": "python",
   "pygments_lexer": "ipython3",
   "version": "3.10.8"
  }
 },
 "nbformat": 4,
 "nbformat_minor": 5
}
