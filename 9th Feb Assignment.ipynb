{
 "cells": [
  {
   "cell_type": "markdown",
   "id": "9ab5e97b-e84f-433b-be2c-51fd79ebbd4b",
   "metadata": {},
   "source": [
    "Q1, Create a vehicle class with an init method having instance variables as name_of_vehicle, max_speed\n",
    "and average_of_vehicle."
   ]
  },
  {
   "cell_type": "code",
   "execution_count": 18,
   "id": "08e3d8dc-fc3e-41ef-9699-dfb908559b6d",
   "metadata": {},
   "outputs": [],
   "source": [
    "class vechile:\n",
    "    def __init__(self,name_of_vechile,max_speed,average_of_vehicle):\n",
    "        self.nam=name_of_vechile;\n",
    "        self.max_speed=max_speed;\n",
    "        self.average_of_vehicle=average_of_vehicle;"
   ]
  },
  {
   "cell_type": "code",
   "execution_count": 19,
   "id": "3560fe47-3524-425f-9cb1-914b62d978bd",
   "metadata": {},
   "outputs": [],
   "source": [
    "vechile1=vechile(\"tata\",240,60)"
   ]
  },
  {
   "cell_type": "markdown",
   "id": "47512e4f-5994-4f86-aa83-4cb82ba89c57",
   "metadata": {},
   "source": [
    "Q2. Create a child class car from the vehicle class created in Que 1, which will inherit the vehicle class.\n",
    "Create a method named seating_capacity which takes capacity as an argument and returns the name of\n",
    "the vehicle and its seating capacity."
   ]
  },
  {
   "cell_type": "code",
   "execution_count": 23,
   "id": "ef2c51d0-09b3-466d-9c22-3f534454e577",
   "metadata": {},
   "outputs": [],
   "source": [
    "class childvechile(vechile):\n",
    "    def __init__(self,name_of_vechile,max_speed,average_of_vehicle):\n",
    "        vechile.__init__(self,name_of_vechile,max_speed,average_of_vehicle);\n",
    "    def seating_capacity(self,capacity):\n",
    "        self.capacity=capacity;\n",
    "        return (self.capacity,self.nam);"
   ]
  },
  {
   "cell_type": "code",
   "execution_count": 24,
   "id": "d2fb4eb4-f521-437d-a123-fd6529978a70",
   "metadata": {},
   "outputs": [],
   "source": [
    "childveh1=childvechile(\"tata\",300,40);"
   ]
  },
  {
   "cell_type": "code",
   "execution_count": 25,
   "id": "1590f2fd-3325-4101-8eba-604f1806d08c",
   "metadata": {},
   "outputs": [
    {
     "data": {
      "text/plain": [
       "(5, 'tata')"
      ]
     },
     "execution_count": 25,
     "metadata": {},
     "output_type": "execute_result"
    }
   ],
   "source": [
    "childveh1.seating_capacity(5)"
   ]
  },
  {
   "cell_type": "code",
   "execution_count": 12,
   "id": "c43cfaa2-8e04-4b61-9cef-9aa7668699f2",
   "metadata": {},
   "outputs": [
    {
     "data": {
      "text/plain": [
       "300"
      ]
     },
     "execution_count": 12,
     "metadata": {},
     "output_type": "execute_result"
    }
   ],
   "source": [
    "childveh1.max_speed"
   ]
  },
  {
   "cell_type": "markdown",
   "id": "907cea44-71df-4add-9e06-9cd59dc990b9",
   "metadata": {},
   "source": [
    "Q3. What is multiple inheritance? Write a python code to demonstrate multiple inheritance.\n",
    "\n",
    "Answer:\n",
    "Multiple Inheritance is a type of inheritance in which one class is derived from more than one base class.\n"
   ]
  },
  {
   "cell_type": "code",
   "execution_count": 62,
   "id": "7c019ca7-4fbc-48fc-9e50-b29fa0367037",
   "metadata": {},
   "outputs": [],
   "source": [
    "class father:\n",
    "    a=\"\"\n",
    "    def __init__(self,title):\n",
    "        self.a=title;\n",
    "        self.title=title;\n",
    "        print(\"self title is \"+self.title); "
   ]
  },
  {
   "cell_type": "code",
   "execution_count": 63,
   "id": "42599f25-1a03-4d24-9efb-8742f02ee592",
   "metadata": {},
   "outputs": [],
   "source": [
    "class mother: \n",
    "    def __init__(self,behaviour):\n",
    "        self.behaviour=behaviour;"
   ]
  },
  {
   "cell_type": "code",
   "execution_count": 64,
   "id": "e3a093ea-97d6-477c-9a08-50f84ef4d79b",
   "metadata": {},
   "outputs": [],
   "source": [
    "class son(father,mother):\n",
    "    def __init__(self, title,behaviour,name):\n",
    "        father.__init__(self,title);\n",
    "        mother.__init__(self,behaviour);\n",
    "        self.name=name;"
   ]
  },
  {
   "cell_type": "code",
   "execution_count": 65,
   "id": "f2b3b738-8a62-44b5-8df2-8d8b98792eba",
   "metadata": {},
   "outputs": [
    {
     "name": "stdout",
     "output_type": "stream",
     "text": [
      "self title is ray\n"
     ]
    }
   ],
   "source": [
    "son1=son(\"ray\",\"cool\",\"raj\");"
   ]
  },
  {
   "cell_type": "code",
   "execution_count": 66,
   "id": "7ee3b420-f040-4409-8cf8-e87710cd6100",
   "metadata": {},
   "outputs": [
    {
     "data": {
      "text/plain": [
       "'ray'"
      ]
     },
     "execution_count": 66,
     "metadata": {},
     "output_type": "execute_result"
    }
   ],
   "source": [
    "son1.title"
   ]
  },
  {
   "cell_type": "code",
   "execution_count": 67,
   "id": "c0564c86-b2e6-43d1-94f8-73734ff8fc0b",
   "metadata": {},
   "outputs": [
    {
     "data": {
      "text/plain": [
       "'raj'"
      ]
     },
     "execution_count": 67,
     "metadata": {},
     "output_type": "execute_result"
    }
   ],
   "source": [
    "son1.name"
   ]
  },
  {
   "cell_type": "code",
   "execution_count": 69,
   "id": "0cc64fbb-d08d-48e7-91d0-ecbd34ed3f92",
   "metadata": {},
   "outputs": [
    {
     "data": {
      "text/plain": [
       "'cool'"
      ]
     },
     "execution_count": 69,
     "metadata": {},
     "output_type": "execute_result"
    }
   ],
   "source": [
    "son1.behaviour"
   ]
  },
  {
   "cell_type": "code",
   "execution_count": 70,
   "id": "69ad5bda-c1c9-4e0a-8e7f-99e272bd1476",
   "metadata": {},
   "outputs": [
    {
     "data": {
      "text/plain": [
       "'ray'"
      ]
     },
     "execution_count": 70,
     "metadata": {},
     "output_type": "execute_result"
    }
   ],
   "source": [
    "son1.a"
   ]
  },
  {
   "cell_type": "markdown",
   "id": "84b833f3-66c5-4cd4-bbce-023164987991",
   "metadata": {},
   "source": [
    "Q4. What are getter and setter in python? Create a class and create a getter and a setter method in this\n",
    "class.\n",
    "\n",
    "Answer:\n",
    "The main purpose of using getters and setters in object-oriented programs is to ensure data encapsulation. Private variables in python are not actually hidden fields like in other object oriented languages. Getters and Setters in python are often used when:\n",
    "\n",
    "We use getters & setters to add validation logic around getting and setting a value.\n",
    "To avoid direct access of a class field i.e. private variables cannot be accessed directly or modified by external user."
   ]
  },
  {
   "cell_type": "code",
   "execution_count": 71,
   "id": "4354c40e-cbe0-47d6-9e91-1bf5df853e08",
   "metadata": {},
   "outputs": [],
   "source": [
    "class raj:\n",
    "    def __init__(self,phonenumber,rollno):\n",
    "        self.__phonenumber=phonenumber;\n",
    "        self.__rollno=rollno;\n",
    "    @property  # retriving the private data.\n",
    "    def phonenumber(self):\n",
    "         return self.__phonenumber;\n",
    "    @phonenumber.setter   # this is for modifying phonenumber\n",
    "    def phonenumber(self,phonenumber):\n",
    "        self.__phonenumber=phonenumber;\n",
    "    @property\n",
    "    def rollno(self):\n",
    "        return self.__rollno;\n",
    "    @rollno.setter\n",
    "    def rollno(self,rollno):\n",
    "        self.__rollno=rollno;\n",
    "        "
   ]
  },
  {
   "cell_type": "code",
   "execution_count": 73,
   "id": "93eaea2e-c69e-450e-8a7c-316d2dcae36a",
   "metadata": {},
   "outputs": [],
   "source": [
    "raj1=raj(407957,1);"
   ]
  },
  {
   "cell_type": "code",
   "execution_count": 74,
   "id": "fbb5c738-008f-40c8-802f-b40fb46a1ed5",
   "metadata": {},
   "outputs": [
    {
     "data": {
      "text/plain": [
       "407957"
      ]
     },
     "execution_count": 74,
     "metadata": {},
     "output_type": "execute_result"
    }
   ],
   "source": [
    "raj1.phonenumber"
   ]
  },
  {
   "cell_type": "code",
   "execution_count": 75,
   "id": "aa6e9fd2-5cf7-4357-a252-b37ee111e313",
   "metadata": {},
   "outputs": [
    {
     "data": {
      "text/plain": [
       "1"
      ]
     },
     "execution_count": 75,
     "metadata": {},
     "output_type": "execute_result"
    }
   ],
   "source": [
    "raj1.rollno"
   ]
  },
  {
   "cell_type": "markdown",
   "id": "f1a74095-54a5-4533-b815-c3ec4635bd85",
   "metadata": {},
   "source": [
    "Q5.What is method overriding in python? Write a python code to demonstrate method overriding.\n",
    "\n",
    "\n",
    "Answer:\n",
    "Method overriding occurs when two or more methods have the same name and same number of parameters and also same type of parameters. so while calling the function the subclass which contains the methods gets override over the super class.\n",
    "\n",
    "Method overriding is a feature in object-oriented programming that allows a subclass to provide a specific implementation of a method that is already defined in its superclass. The purpose of method overriding is to allow a subclass to extend or modify the behavior of the superclass method.\n"
   ]
  },
  {
   "cell_type": "code",
   "execution_count": null,
   "id": "3cb09c8f-3913-4541-a3a0-067cf8bff959",
   "metadata": {},
   "outputs": [],
   "source": [
    "class first:\n",
    "    def skills(sl"
   ]
  }
 ],
 "metadata": {
  "kernelspec": {
   "display_name": "Python 3 (ipykernel)",
   "language": "python",
   "name": "python3"
  },
  "language_info": {
   "codemirror_mode": {
    "name": "ipython",
    "version": 3
   },
   "file_extension": ".py",
   "mimetype": "text/x-python",
   "name": "python",
   "nbconvert_exporter": "python",
   "pygments_lexer": "ipython3",
   "version": "3.10.8"
  }
 },
 "nbformat": 4,
 "nbformat_minor": 5
}
