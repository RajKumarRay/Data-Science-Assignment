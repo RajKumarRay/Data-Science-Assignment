{
 "cells": [
  {
   "cell_type": "markdown",
   "id": "70bed4b5-bae5-4972-b8c7-03669f40c928",
   "metadata": {},
   "source": [
    "Consider the below code to answer further questions:\n",
    "import numpy as np\n",
    "list_ = [ ‘1’ , ’2’ , ‘3’ , ‘4’ , ‘5’ ]\n",
    "array_list = np.array(object = list_)\n",
    "Q1. Is there any difference in the data type of variables list_ and array_list? If there is then write a code\n",
    "to print the data types of both the variables."
   ]
  },
  {
   "cell_type": "code",
   "execution_count": 1,
   "id": "77d3d98d-0a43-4111-8958-f8f9d62e3659",
   "metadata": {},
   "outputs": [],
   "source": [
    "list_=['1','2','3','4','5'];"
   ]
  },
  {
   "cell_type": "code",
   "execution_count": 2,
   "id": "a3616571-c296-44a3-bff9-e49b0aa0e0c6",
   "metadata": {},
   "outputs": [],
   "source": [
    "import numpy as np"
   ]
  },
  {
   "cell_type": "code",
   "execution_count": 4,
   "id": "18b4dff4-af7f-4cee-946c-29728f26ed99",
   "metadata": {},
   "outputs": [],
   "source": [
    "array_list=np.array(object=list_)"
   ]
  },
  {
   "cell_type": "code",
   "execution_count": 5,
   "id": "bdf893e1-e11d-4be0-ae44-c9f8f7de9c15",
   "metadata": {},
   "outputs": [
    {
     "data": {
      "text/plain": [
       "list"
      ]
     },
     "execution_count": 5,
     "metadata": {},
     "output_type": "execute_result"
    }
   ],
   "source": [
    "type(list_)"
   ]
  },
  {
   "cell_type": "code",
   "execution_count": 6,
   "id": "5350fb75-899f-4cbc-9882-c17c478b0512",
   "metadata": {},
   "outputs": [
    {
     "data": {
      "text/plain": [
       "numpy.ndarray"
      ]
     },
     "execution_count": 6,
     "metadata": {},
     "output_type": "execute_result"
    }
   ],
   "source": [
    "type(array_list)"
   ]
  },
  {
   "cell_type": "markdown",
   "id": "36a28f3e-058a-47a3-9b41-90ff4c70c481",
   "metadata": {},
   "source": [
    "Yes there is a difference between list and array . List is in-built data structure. while array is a imported \n",
    "one as we need to import it from numpy.\n",
    "List can contain different data types. but array cant contain different data types."
   ]
  },
  {
   "cell_type": "code",
   "execution_count": null,
   "id": "2cb8089b-6e47-4dea-89b2-6c4d6c32f946",
   "metadata": {},
   "outputs": [],
   "source": []
  },
  {
   "cell_type": "markdown",
   "id": "e7643b68-d98e-4abc-a23c-b9ca51f1ffc7",
   "metadata": {},
   "source": [
    "Q2. Write a code to print the data type of each and every element of both the variables list_ and\n",
    "arra_list."
   ]
  },
  {
   "cell_type": "code",
   "execution_count": 13,
   "id": "e8cd8a99-96f4-4038-9eb4-34ce643116b8",
   "metadata": {},
   "outputs": [
    {
     "name": "stdout",
     "output_type": "stream",
     "text": [
      "1 data type=  <class 'str'>\n",
      "2 data type=  <class 'str'>\n",
      "3 data type=  <class 'str'>\n",
      "4 data type=  <class 'str'>\n",
      "5 data type=  <class 'str'>\n"
     ]
    }
   ],
   "source": [
    "for i in list_:\n",
    "    print(i+\" data type= \",type(i));"
   ]
  },
  {
   "cell_type": "code",
   "execution_count": 14,
   "id": "718c7f07-5295-4d05-92cd-0aaa807cfa51",
   "metadata": {},
   "outputs": [
    {
     "name": "stdout",
     "output_type": "stream",
     "text": [
      "1 data type=  <class 'numpy.str_'>\n",
      "2 data type=  <class 'numpy.str_'>\n",
      "3 data type=  <class 'numpy.str_'>\n",
      "4 data type=  <class 'numpy.str_'>\n",
      "5 data type=  <class 'numpy.str_'>\n"
     ]
    }
   ],
   "source": [
    "for i in array_list:\n",
    "    print(i+\" data type= \",type(i));"
   ]
  },
  {
   "cell_type": "code",
   "execution_count": null,
   "id": "8cd88867-a200-4267-ad1d-011f10db80e5",
   "metadata": {},
   "outputs": [],
   "source": []
  },
  {
   "cell_type": "code",
   "execution_count": null,
   "id": "62107e2a-610a-4409-b270-75f11f0b23d5",
   "metadata": {},
   "outputs": [],
   "source": []
  },
  {
   "cell_type": "markdown",
   "id": "b74f4c9e-e1ef-4d2d-8cec-34074823322b",
   "metadata": {},
   "source": [
    "Q3. Considering the following changes in the variable, array_list:\n",
    "array_list = np.array(object = list_, dtype = int)\n",
    "Will there be any difference in the data type of the elements present in both the variables, list_ and\n",
    "arra_list? If so then print the data types of each and every element present in both the variables, list_\n",
    "and arra_list."
   ]
  },
  {
   "cell_type": "code",
   "execution_count": 15,
   "id": "a51cd8e7-e441-4a69-b1cc-f114d2d44023",
   "metadata": {},
   "outputs": [],
   "source": [
    "array_list = np.array(object = list_, dtype = int)"
   ]
  },
  {
   "cell_type": "code",
   "execution_count": 16,
   "id": "9b19bc26-af5d-48a1-9110-2bc2963b2319",
   "metadata": {},
   "outputs": [
    {
     "data": {
      "text/plain": [
       "array([1, 2, 3, 4, 5])"
      ]
     },
     "execution_count": 16,
     "metadata": {},
     "output_type": "execute_result"
    }
   ],
   "source": [
    "array_list"
   ]
  },
  {
   "cell_type": "code",
   "execution_count": 21,
   "id": "4bc7b31f-08e1-4d83-965b-9000fdc299d7",
   "metadata": {},
   "outputs": [
    {
     "name": "stdout",
     "output_type": "stream",
     "text": [
      "1  data type=  <class 'numpy.int64'>\n",
      "2  data type=  <class 'numpy.int64'>\n",
      "3  data type=  <class 'numpy.int64'>\n",
      "4  data type=  <class 'numpy.int64'>\n",
      "5  data type=  <class 'numpy.int64'>\n"
     ]
    }
   ],
   "source": [
    "for i in array_list:\n",
    "    print(i,\" data type= \",type(i));"
   ]
  },
  {
   "cell_type": "markdown",
   "id": "db7809ce-dda0-48d8-8b56-64858aecdce2",
   "metadata": {},
   "source": [
    "The data type of each element in array list is int and in list it is str."
   ]
  },
  {
   "cell_type": "code",
   "execution_count": null,
   "id": "38b693f9-64af-4a44-96c8-ddcfb495bc42",
   "metadata": {},
   "outputs": [],
   "source": []
  },
  {
   "cell_type": "markdown",
   "id": "5d0d9d6e-7911-44e8-987b-33005fad9640",
   "metadata": {},
   "source": [
    "Consider the below code to answer further questions:\n",
    "import numpy as np\n",
    "num_list = [ [ 1 , 2 , 3 ] , [ 4 , 5 , 6 ] ]\n",
    "num_array = np.array(object = num_list)\n",
    "Q4. Write a code to find the following characteristics of variable, num_array:\n",
    "(i) shape\n",
    "(ii) size"
   ]
  },
  {
   "cell_type": "code",
   "execution_count": 23,
   "id": "ab47f825-7350-45d5-afbd-9501c0084d30",
   "metadata": {},
   "outputs": [],
   "source": [
    "num_list = [ [ 1 , 2 , 3 ] , [ 4 , 5 , 6 ] ]"
   ]
  },
  {
   "cell_type": "code",
   "execution_count": 24,
   "id": "270e84b4-163e-4e59-b6ea-9398d724cbba",
   "metadata": {},
   "outputs": [],
   "source": [
    "num_array=np.array(object=num_list)"
   ]
  },
  {
   "cell_type": "code",
   "execution_count": 25,
   "id": "81a3f9ed-c5af-46e6-88fb-0809ea63e4b0",
   "metadata": {},
   "outputs": [
    {
     "data": {
      "text/plain": [
       "(2, 3)"
      ]
     },
     "execution_count": 25,
     "metadata": {},
     "output_type": "execute_result"
    }
   ],
   "source": [
    "num_array.shape"
   ]
  },
  {
   "cell_type": "code",
   "execution_count": 26,
   "id": "5a91b441-a0da-46dd-9e6b-442399ea2497",
   "metadata": {},
   "outputs": [
    {
     "data": {
      "text/plain": [
       "6"
      ]
     },
     "execution_count": 26,
     "metadata": {},
     "output_type": "execute_result"
    }
   ],
   "source": [
    "num_array.size"
   ]
  },
  {
   "cell_type": "code",
   "execution_count": null,
   "id": "f5d9ef6b-dfc1-426b-a22d-a38c83e73c6b",
   "metadata": {},
   "outputs": [],
   "source": []
  },
  {
   "cell_type": "code",
   "execution_count": null,
   "id": "2d357a91-241d-44f5-8c41-8870a54503e5",
   "metadata": {},
   "outputs": [],
   "source": []
  },
  {
   "cell_type": "code",
   "execution_count": null,
   "id": "12b8071d-4a3d-4ed4-801b-3fc1e1ce6ffd",
   "metadata": {},
   "outputs": [],
   "source": []
  },
  {
   "cell_type": "markdown",
   "id": "fa58ee76-3879-4cd1-9363-cf3622bbced2",
   "metadata": {},
   "source": [
    "Q5. Write a code to create numpy array of 3*3 matrix containing zeros only, using a numpy array\n",
    "creation function.\n",
    "[Hint: The size of the array will be 9 and the shape will be (3,3).]"
   ]
  },
  {
   "cell_type": "code",
   "execution_count": 39,
   "id": "bc17315e-ced7-475d-b4c5-055aa481c379",
   "metadata": {},
   "outputs": [],
   "source": [
    "array_zero=np.zeros([3,3],dtype=int)"
   ]
  },
  {
   "cell_type": "code",
   "execution_count": 40,
   "id": "0def49a7-b2e5-4ca8-8958-263cdbf07551",
   "metadata": {},
   "outputs": [
    {
     "data": {
      "text/plain": [
       "array([[0, 0, 0],\n",
       "       [0, 0, 0],\n",
       "       [0, 0, 0]])"
      ]
     },
     "execution_count": 40,
     "metadata": {},
     "output_type": "execute_result"
    }
   ],
   "source": [
    "array_zero"
   ]
  },
  {
   "cell_type": "code",
   "execution_count": null,
   "id": "21c39182-f923-4bb4-9493-e02d388da8c1",
   "metadata": {},
   "outputs": [],
   "source": []
  },
  {
   "cell_type": "code",
   "execution_count": null,
   "id": "a3fbcf4b-1b30-49bc-829b-90f1edb469d1",
   "metadata": {},
   "outputs": [],
   "source": []
  },
  {
   "cell_type": "markdown",
   "id": "085674ff-c6b2-4a52-a442-7d0dd345bc65",
   "metadata": {},
   "source": [
    "Q6. Create an identity matrix of shape (5,5) using numpy functions?\n",
    "[Hint: An identity matrix is a matrix containing 1 diagonally and other elements will be 0.]"
   ]
  },
  {
   "cell_type": "code",
   "execution_count": 42,
   "id": "27d4390d-7c20-4966-bbc7-f893b35cfa1e",
   "metadata": {},
   "outputs": [],
   "source": [
    "array_identity=np.identity(5,dtype=int)"
   ]
  },
  {
   "cell_type": "code",
   "execution_count": 43,
   "id": "fc4089fa-5034-4dbf-82d9-83c05690925a",
   "metadata": {},
   "outputs": [
    {
     "data": {
      "text/plain": [
       "array([[1, 0, 0, 0, 0],\n",
       "       [0, 1, 0, 0, 0],\n",
       "       [0, 0, 1, 0, 0],\n",
       "       [0, 0, 0, 1, 0],\n",
       "       [0, 0, 0, 0, 1]])"
      ]
     },
     "execution_count": 43,
     "metadata": {},
     "output_type": "execute_result"
    }
   ],
   "source": [
    "array_identity"
   ]
  },
  {
   "cell_type": "code",
   "execution_count": null,
   "id": "c1a0e52b-b7c1-43c4-8cd8-8e2e5686db23",
   "metadata": {},
   "outputs": [],
   "source": []
  }
 ],
 "metadata": {
  "kernelspec": {
   "display_name": "Python 3 (ipykernel)",
   "language": "python",
   "name": "python3"
  },
  "language_info": {
   "codemirror_mode": {
    "name": "ipython",
    "version": 3
   },
   "file_extension": ".py",
   "mimetype": "text/x-python",
   "name": "python",
   "nbconvert_exporter": "python",
   "pygments_lexer": "ipython3",
   "version": "3.10.8"
  }
 },
 "nbformat": 4,
 "nbformat_minor": 5
}
