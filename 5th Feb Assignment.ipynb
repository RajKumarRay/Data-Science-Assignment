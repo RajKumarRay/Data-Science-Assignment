{
 "cells": [
  {
   "cell_type": "markdown",
   "id": "6747c293-261c-42a6-a569-aa08c5c08d51",
   "metadata": {},
   "source": [
    "Q1. Explain Class and Object with respect to Object-Oriented Programming. Give a suitable example.\n",
    "\n",
    "Answer:\n",
    "Class is a user defined data type.It is a template of objects.\n",
    "Objects are the instance of class.\n",
    "Class: Fruit\n",
    "Object: Apple, Mango, Banana."
   ]
  },
  {
   "cell_type": "markdown",
   "id": "a8b48ce0-f2e0-48be-a753-bb7e132fbeb2",
   "metadata": {},
   "source": [
    "Q2. Name the four pillars of OOPs.\n",
    "\n",
    "Answer:\n",
    "The four pillars of OOPs are \n",
    "1-> Abstraction\n",
    "2-> Polymorphism\n",
    "3-> Inheritance\n",
    "4-> Encapsulation"
   ]
  },
  {
   "cell_type": "markdown",
   "id": "c85f503f-b9b3-4628-8617-583843c48483",
   "metadata": {},
   "source": [
    "Q3. Explain why the __init__() function is used. Give a suitable example.\n",
    "\n",
    "answer:\n",
    "\"__init__\" is a reseved method in python classes. It is called as a constructor in object oriented terminology. This method is called when an object is created from a class and it allows the class to initialize the attributes of the class."
   ]
  },
  {
   "cell_type": "code",
   "execution_count": 1,
   "id": "982a39f1-a5f3-4fd2-88be-e5db9f792f40",
   "metadata": {},
   "outputs": [],
   "source": [
    "class fruits():\n",
    "    def __init__(self,first,second,third):\n",
    "        self.first=first\n",
    "        self.second=second\n",
    "        self.third=third\n",
    "    def returnfruits(self):\n",
    "        return self.first,self.second,self.third"
   ]
  },
  {
   "cell_type": "code",
   "execution_count": 2,
   "id": "dcc9dbb3-8482-4180-9173-78b6a4c75ea5",
   "metadata": {},
   "outputs": [],
   "source": [
    "one=fruits('mango','orange','banana')"
   ]
  },
  {
   "cell_type": "code",
   "execution_count": 3,
   "id": "27b2b4e2-ec81-4db0-bbdb-5c74dea2999f",
   "metadata": {},
   "outputs": [
    {
     "data": {
      "text/plain": [
       "'mango'"
      ]
     },
     "execution_count": 3,
     "metadata": {},
     "output_type": "execute_result"
    }
   ],
   "source": [
    "one.first"
   ]
  },
  {
   "cell_type": "markdown",
   "id": "03654142-7dbd-4bde-a3a4-d8c9aae00da8",
   "metadata": {},
   "source": [
    "Q4. Why self is used in OOPs?\n",
    "\n",
    "Answer:\n",
    "Self is used in OOPs because self is used to initialize the object to the class.\n",
    "It works as a reference to the object. Python uses the self parameter to refer to instance attributes and methods of the class"
   ]
  },
  {
   "cell_type": "markdown",
   "id": "e7f5c9bb-91bf-4191-8de3-8d9299309f13",
   "metadata": {},
   "source": [
    "Q5. What is inheritance? Give an example for each type of inheritance.\n",
    "\n",
    "Answer:\n",
    "Inheritance is the phenomenon of inheriting the property of parent object. It helps to write reuseable code.\n",
    "\n",
    "The types of inheritance are :\n",
    "1.Single Inheritance.\n",
    "It is a type of inheritance in which one derived class acquires the property of another derived class.\n"
   ]
  },
  {
   "cell_type": "code",
   "execution_count": 23,
   "id": "84b1400b-c815-4947-a11b-b122522cef58",
   "metadata": {},
   "outputs": [],
   "source": [
    "# single inheritance:\n",
    "\n",
    "class father:\n",
    "    a=\"papa\"\n",
    "    pass"
   ]
  },
  {
   "cell_type": "code",
   "execution_count": 24,
   "id": "11247639-7de1-4e55-b586-4e9c6c86d31a",
   "metadata": {},
   "outputs": [],
   "source": [
    "class son(father):\n",
    "    def parent(self):\n",
    "        print(self.a)"
   ]
  },
  {
   "cell_type": "code",
   "execution_count": 25,
   "id": "b70f9154-7a54-46fb-86b9-886f222d404e",
   "metadata": {},
   "outputs": [
    {
     "name": "stdout",
     "output_type": "stream",
     "text": [
      "papa\n"
     ]
    }
   ],
   "source": [
    "son1=son();\n",
    "son1.parent()"
   ]
  },
  {
   "cell_type": "markdown",
   "id": "bfb65cd6-ad17-46f9-81ec-6fff651a3847",
   "metadata": {},
   "source": [
    "Multiple Inheritance: It is a type of inheritance in which a derived class acquires the property of more than or equal to 2 parent class.\n"
   ]
  },
  {
   "cell_type": "code",
   "execution_count": 1,
   "id": "e5edf0fd-00e4-425a-b21a-38f4bfc26759",
   "metadata": {},
   "outputs": [],
   "source": [
    "#Example.\n",
    "\n",
    "class father:\n",
    "    a=\"papa\"\n",
    "    pass"
   ]
  },
  {
   "cell_type": "code",
   "execution_count": 2,
   "id": "ee6342b4-478a-4589-8862-e5565212bd91",
   "metadata": {},
   "outputs": [],
   "source": [
    "class mother:\n",
    "    b=\"mummy\"\n",
    "    pass"
   ]
  },
  {
   "cell_type": "code",
   "execution_count": 3,
   "id": "649ec021-9143-4692-a285-b4fdad83a9bb",
   "metadata": {},
   "outputs": [],
   "source": [
    "class son(father,mother):\n",
    "    pass"
   ]
  },
  {
   "cell_type": "code",
   "execution_count": 4,
   "id": "4a433825-7b66-414a-9a00-b4e211ed971c",
   "metadata": {},
   "outputs": [],
   "source": [
    "son1=son()"
   ]
  },
  {
   "cell_type": "code",
   "execution_count": 7,
   "id": "bda065e9-29c5-4fdb-bbdd-d10a5536e411",
   "metadata": {},
   "outputs": [
    {
     "name": "stdout",
     "output_type": "stream",
     "text": [
      "papa\n",
      "mummy\n"
     ]
    }
   ],
   "source": [
    "print(son1.a)\n",
    "print(son1.b)"
   ]
  },
  {
   "cell_type": "markdown",
   "id": "dafa2655-d9ff-4d68-96a7-dc93eda5cd45",
   "metadata": {},
   "source": [
    "Mutlilevel Inheritance: In this type of inheritance in which first derived class acquires the property of parent class and second derived class acquires the property of first derived class. "
   ]
  },
  {
   "cell_type": "code",
   "execution_count": 45,
   "id": "cafe85f5-b8b7-4fb9-ace9-43edb8b6b74b",
   "metadata": {},
   "outputs": [],
   "source": [
    "class father:\n",
    "    name=\"kailash\""
   ]
  },
  {
   "cell_type": "code",
   "execution_count": 46,
   "id": "acd2d98c-ed68-4af4-8330-d653cb883256",
   "metadata": {},
   "outputs": [],
   "source": [
    "class son(father):\n",
    "    sname=\"ramesh\""
   ]
  },
  {
   "cell_type": "code",
   "execution_count": 47,
   "id": "95675fa4-7ba8-430f-9c95-204e8f3f0f03",
   "metadata": {},
   "outputs": [],
   "source": [
    "class grandson(son):\n",
    "    def __init__(self,gson):\n",
    "        self.gson=gson"
   ]
  },
  {
   "cell_type": "code",
   "execution_count": 48,
   "id": "8bfc2b31-25ff-48c8-9299-2045a6012d89",
   "metadata": {},
   "outputs": [],
   "source": [
    "gson1=grandson(\"raj\")"
   ]
  },
  {
   "cell_type": "code",
   "execution_count": 49,
   "id": "7f350472-2642-4079-9878-67b321ae8f8d",
   "metadata": {},
   "outputs": [
    {
     "data": {
      "text/plain": [
       "'raj'"
      ]
     },
     "execution_count": 49,
     "metadata": {},
     "output_type": "execute_result"
    }
   ],
   "source": [
    "gson1.gson"
   ]
  },
  {
   "cell_type": "code",
   "execution_count": 50,
   "id": "20402e6f-e5b2-4861-9bbd-16125d1542a3",
   "metadata": {},
   "outputs": [
    {
     "data": {
      "text/plain": [
       "'kailash'"
      ]
     },
     "execution_count": 50,
     "metadata": {},
     "output_type": "execute_result"
    }
   ],
   "source": [
    "gson1.name"
   ]
  },
  {
   "cell_type": "code",
   "execution_count": 51,
   "id": "bc92a0d4-fd9b-43b9-a61f-c6ea28ba4cb0",
   "metadata": {},
   "outputs": [],
   "source": [
    "fson=son()"
   ]
  },
  {
   "cell_type": "code",
   "execution_count": 52,
   "id": "12b369e7-f9c2-4a9e-879a-af1b3473c113",
   "metadata": {},
   "outputs": [
    {
     "data": {
      "text/plain": [
       "'kailash'"
      ]
     },
     "execution_count": 52,
     "metadata": {},
     "output_type": "execute_result"
    }
   ],
   "source": [
    "fson.name"
   ]
  },
  {
   "cell_type": "markdown",
   "id": "c7d290dc-e37f-4f27-a4b8-722032dc859f",
   "metadata": {},
   "source": [
    "Heirachical Inheritance: It is a type of inheritance from one base class , multiple classes are derived."
   ]
  },
  {
   "cell_type": "code",
   "execution_count": 34,
   "id": "cad8d8eb-2257-47ea-8ec0-73a129ff7c09",
   "metadata": {},
   "outputs": [],
   "source": [
    "class A:\n",
    "    def func1(self):\n",
    "        print(\"this is a parent class\");"
   ]
  },
  {
   "cell_type": "code",
   "execution_count": 35,
   "id": "c7934bdb-b75c-4ab1-9ce1-e8db39c3252e",
   "metadata": {},
   "outputs": [],
   "source": [
    "class B(A):\n",
    "    def func2(self):\n",
    "        print(\"This is class B\");"
   ]
  },
  {
   "cell_type": "code",
   "execution_count": 36,
   "id": "6a0bcd56-498c-4ba5-a853-113589efac03",
   "metadata": {},
   "outputs": [],
   "source": [
    "class C(A):\n",
    "    def func3(self):\n",
    "        print(\"This is class C\");"
   ]
  },
  {
   "cell_type": "code",
   "execution_count": 37,
   "id": "5804b299-1587-4f37-b6e7-2becbf67abb5",
   "metadata": {},
   "outputs": [],
   "source": [
    "b=B()"
   ]
  },
  {
   "cell_type": "code",
   "execution_count": 38,
   "id": "9baeb192-c1c5-4f13-9af0-efb3906974ab",
   "metadata": {},
   "outputs": [
    {
     "name": "stdout",
     "output_type": "stream",
     "text": [
      "This is class B\n"
     ]
    }
   ],
   "source": [
    "b.func2()"
   ]
  },
  {
   "cell_type": "code",
   "execution_count": 39,
   "id": "6e2efa72-1dd8-4988-aae2-2d414dcd8428",
   "metadata": {},
   "outputs": [
    {
     "name": "stdout",
     "output_type": "stream",
     "text": [
      "this is a parent class\n"
     ]
    }
   ],
   "source": [
    "b.func1()"
   ]
  },
  {
   "cell_type": "code",
   "execution_count": 40,
   "id": "80cef58f-ae9a-4bf1-8539-04394fca0d26",
   "metadata": {},
   "outputs": [],
   "source": [
    "c=C()"
   ]
  },
  {
   "cell_type": "code",
   "execution_count": 42,
   "id": "00d14594-5d08-4054-ae9a-1b7e34d36156",
   "metadata": {},
   "outputs": [
    {
     "name": "stdout",
     "output_type": "stream",
     "text": [
      "This is class C\n"
     ]
    }
   ],
   "source": [
    "c.func3()"
   ]
  },
  {
   "cell_type": "markdown",
   "id": "3f4a72d8-23d3-4ac8-a675-6e227d2189f5",
   "metadata": {},
   "source": [
    "Hybrid Inheritance: It is a type of inheritance which is formed from more than one type of inheritance."
   ]
  },
  {
   "cell_type": "code",
   "execution_count": 43,
   "id": "afa4aefd-e76e-4328-a0c7-5b72e4f5c8b4",
   "metadata": {},
   "outputs": [],
   "source": [
    "# Example:\n",
    "\n",
    "class A:\n",
    "    name=\"raj\"\n",
    "    pass"
   ]
  },
  {
   "cell_type": "code",
   "execution_count": 44,
   "id": "d54106e5-20c2-4698-88b9-e9929c9c07d7",
   "metadata": {},
   "outputs": [],
   "source": [
    "class B(A):\n",
    "    name2=\"sand\"\n",
    "    pass"
   ]
  },
  {
   "cell_type": "code",
   "execution_count": null,
   "id": "dc7eb812-b401-4b35-b611-73a839d0e2d3",
   "metadata": {},
   "outputs": [],
   "source": [
    "class C(B,A):\n",
    "    "
   ]
  }
 ],
 "metadata": {
  "kernelspec": {
   "display_name": "Python 3 (ipykernel)",
   "language": "python",
   "name": "python3"
  },
  "language_info": {
   "codemirror_mode": {
    "name": "ipython",
    "version": 3
   },
   "file_extension": ".py",
   "mimetype": "text/x-python",
   "name": "python",
   "nbconvert_exporter": "python",
   "pygments_lexer": "ipython3",
   "version": "3.10.8"
  }
 },
 "nbformat": 4,
 "nbformat_minor": 5
}
