{
 "cells": [
  {
   "cell_type": "code",
   "execution_count": 1,
   "id": "17200c9a-36ab-4a0d-8911-bf17febde2b0",
   "metadata": {},
   "outputs": [
    {
     "name": "stdin",
     "output_type": "stream",
     "text": [
      "enter the password sdfdg346433dc\n"
     ]
    },
    {
     "name": "stdout",
     "output_type": "stream",
     "text": [
      "Invalid password\n"
     ]
    }
   ],
   "source": [
    "password=input(\"enter the password\")\n",
    "uppercase,lowercase,number,specialchar=0,0,0,0\n",
    "if len(password)>=10:\n",
    "    for i in password:\n",
    "        if i>='A' and i<='Z':\n",
    "            uppercase+=1\n",
    "        elif i>='a' and i<='z':\n",
    "            lowercase+=1\n",
    "        elif i>='0' and i<='9':\n",
    "            number+=1\n",
    "        else:\n",
    "            specialchar+=1\n",
    "    if uppercase>=2 and lowercase>=2 and number>=1 and specialchar>=3:\n",
    "        print(\"valid password\")\n",
    "    else:\n",
    "        print(\"Invalid password\")\n",
    "else:\n",
    "    print(\"Invalid Password\")"
   ]
  },
  {
   "cell_type": "markdown",
   "id": "735fe0f0-f236-4d2e-9c70-2894987a7290",
   "metadata": {},
   "source": [
    "Question 2:"
   ]
  },
  {
   "cell_type": "code",
   "execution_count": 2,
   "id": "69ffc21b-f0a7-4bf6-beea-bbc81e5f10a9",
   "metadata": {},
   "outputs": [],
   "source": [
    "#checking whether a string start with a particular letter\n",
    "\n",
    "res=lambda x: True if s[0]=='a' else False"
   ]
  },
  {
   "cell_type": "code",
   "execution_count": 3,
   "id": "7b17670c-fb2f-482e-870a-bce45127e332",
   "metadata": {},
   "outputs": [
    {
     "data": {
      "text/plain": [
       "False"
      ]
     },
     "execution_count": 3,
     "metadata": {},
     "output_type": "execute_result"
    }
   ],
   "source": [
    "s=\"bcdef\"\n",
    "res(s)"
   ]
  },
  {
   "cell_type": "code",
   "execution_count": 4,
   "id": "48129215-041d-4317-a384-6861b1d4cf63",
   "metadata": {},
   "outputs": [],
   "source": [
    "# checking whether a string is numeric or not\n",
    "\n",
    "res=lambda x: True if x.isnumeric() else False"
   ]
  },
  {
   "cell_type": "code",
   "execution_count": 5,
   "id": "2ff19793-e707-4d26-8ecb-8e7fb6a971c9",
   "metadata": {},
   "outputs": [
    {
     "data": {
      "text/plain": [
       "False"
      ]
     },
     "execution_count": 5,
     "metadata": {},
     "output_type": "execute_result"
    }
   ],
   "source": [
    "s=\"243kj\"\n",
    "res(s)"
   ]
  },
  {
   "cell_type": "code",
   "execution_count": 22,
   "id": "24fd7a90-0a3b-4bbb-9aa1-f9189d8f26cb",
   "metadata": {},
   "outputs": [],
   "source": [
    "# Sort a list of tuples having fruit names and their quantity."
   ]
  },
  {
   "cell_type": "code",
   "execution_count": 21,
   "id": "2c19d55e-9f67-4e59-be57-33100004fe12",
   "metadata": {},
   "outputs": [
    {
     "name": "stdout",
     "output_type": "stream",
     "text": [
      "Sorted list using value of tuple =  [('grapes', 1000), ('mango', 99), ('orange', 80)]\n"
     ]
    }
   ],
   "source": [
    "arr = [(\"mango\",99),(\"orange\",80), (\"grapes\", 1000)]\n",
    "arr.sort(key= lambda x:x[1],reverse=True)\n",
    "print('Sorted list using value of tuple = ',arr)"
   ]
  },
  {
   "cell_type": "code",
   "execution_count": null,
   "id": "6520618e-75a5-48e5-aeaa-ed1fc4961ded",
   "metadata": {},
   "outputs": [],
   "source": [
    "# Find the squares of numbers from 1 to 10"
   ]
  },
  {
   "cell_type": "code",
   "execution_count": 24,
   "id": "e18cbfb8-edcc-471b-bff9-b0639f55f81c",
   "metadata": {},
   "outputs": [],
   "source": [
    "l1=[1,2,3,4,5,6,7,8,9,10]\n"
   ]
  },
  {
   "cell_type": "code",
   "execution_count": 25,
   "id": "c3af6c97-1cbf-488b-b551-f326cef4544e",
   "metadata": {},
   "outputs": [],
   "source": [
    "def square(x):\n",
    "    return x**2;"
   ]
  },
  {
   "cell_type": "code",
   "execution_count": 26,
   "id": "67d695f1-bebc-4a3a-a674-8e58623bb9a1",
   "metadata": {},
   "outputs": [
    {
     "data": {
      "text/plain": [
       "[1, 4, 9, 16, 25, 36, 49, 64, 81, 100]"
      ]
     },
     "execution_count": 26,
     "metadata": {},
     "output_type": "execute_result"
    }
   ],
   "source": [
    "list(map(square,l1))"
   ]
  },
  {
   "cell_type": "code",
   "execution_count": 52,
   "id": "b21dc4a8-9705-49c9-91ce-cd0a45ed1b3d",
   "metadata": {},
   "outputs": [
    {
     "data": {
      "text/plain": [
       "[1, 4, 9, 16, 25, 36, 49, 64, 81, 100]"
      ]
     },
     "execution_count": 52,
     "metadata": {},
     "output_type": "execute_result"
    }
   ],
   "source": [
    "# the above one is done using map and second one is done using lambda\n",
    "\n",
    "[(lambda x:x**2)(x) for x in l1]\n"
   ]
  },
  {
   "cell_type": "code",
   "execution_count": 54,
   "id": "94fa412d-e3ea-4988-a542-f50c58d4406b",
   "metadata": {},
   "outputs": [],
   "source": [
    "# Find the cube root of numbers from 1 to 10Y"
   ]
  },
  {
   "cell_type": "code",
   "execution_count": 53,
   "id": "3c9434e5-3992-46f6-8bb6-c0fb5c661253",
   "metadata": {},
   "outputs": [
    {
     "data": {
      "text/plain": [
       "[0, 1, 8, 27, 64, 125, 216, 343, 512, 729]"
      ]
     },
     "execution_count": 53,
     "metadata": {},
     "output_type": "execute_result"
    }
   ],
   "source": [
    "[(lambda x:x*x*x)(x) for x in range(10)]"
   ]
  },
  {
   "cell_type": "code",
   "execution_count": 55,
   "id": "563b7b16-8879-42f4-8a91-31e5bd14bb75",
   "metadata": {},
   "outputs": [],
   "source": [
    "#2nd way \n",
    "def cube(x):\n",
    "    return x*x*x;"
   ]
  },
  {
   "cell_type": "code",
   "execution_count": 57,
   "id": "4aaf150f-f5d0-4e0f-b406-9ea5223649e9",
   "metadata": {},
   "outputs": [
    {
     "data": {
      "text/plain": [
       "[0, 1, 8, 27, 64, 125, 216, 343, 512, 729]"
      ]
     },
     "execution_count": 57,
     "metadata": {},
     "output_type": "execute_result"
    }
   ],
   "source": [
    "list(map(cube,range(10)))"
   ]
  },
  {
   "cell_type": "code",
   "execution_count": null,
   "id": "df2136dd-ee3f-41df-8f47-d341957c2eaf",
   "metadata": {},
   "outputs": [],
   "source": [
    "# Check if a given number is evenY"
   ]
  },
  {
   "cell_type": "code",
   "execution_count": 58,
   "id": "5b57662f-de74-4b2a-a020-b60bad180f07",
   "metadata": {},
   "outputs": [],
   "source": [
    "a=22\n"
   ]
  },
  {
   "cell_type": "code",
   "execution_count": 59,
   "id": "d970a248-49bf-4211-86e9-cc236fbff72d",
   "metadata": {},
   "outputs": [],
   "source": [
    "def checkeven(a):\n",
    "    if a%2==0:\n",
    "        return True;\n",
    "    return False;"
   ]
  },
  {
   "cell_type": "code",
   "execution_count": 60,
   "id": "c04ca73c-6427-4a01-8d26-dadd040363a2",
   "metadata": {},
   "outputs": [
    {
     "data": {
      "text/plain": [
       "True"
      ]
     },
     "execution_count": 60,
     "metadata": {},
     "output_type": "execute_result"
    }
   ],
   "source": [
    "checkeven(a)"
   ]
  },
  {
   "cell_type": "code",
   "execution_count": 65,
   "id": "08a90085-2a71-4ae6-9879-6c5f91d4f5b8",
   "metadata": {},
   "outputs": [],
   "source": [
    "res=lambda x:True if x%2==0 else False"
   ]
  },
  {
   "cell_type": "code",
   "execution_count": 66,
   "id": "c5e0f074-9796-4f2b-83d5-91c4e6f168f8",
   "metadata": {},
   "outputs": [
    {
     "data": {
      "text/plain": [
       "False"
      ]
     },
     "execution_count": 66,
     "metadata": {},
     "output_type": "execute_result"
    }
   ],
   "source": [
    "res(23)"
   ]
  },
  {
   "cell_type": "code",
   "execution_count": null,
   "id": "5ce5dec1-bb7e-4cce-a72a-6f341aabc7e6",
   "metadata": {},
   "outputs": [],
   "source": [
    "# Filter odd numbers from the given list.\n",
    "# [1,2,3,4,5,6,7,8,9,10]"
   ]
  },
  {
   "cell_type": "code",
   "execution_count": 67,
   "id": "406647e4-bbba-4640-b63d-d91cf696e7ff",
   "metadata": {},
   "outputs": [],
   "source": [
    "l1=[1,2,3,4,5,6,7,8,9,10]"
   ]
  },
  {
   "cell_type": "code",
   "execution_count": 69,
   "id": "4d079760-b112-412d-876b-3c3b6e7757b3",
   "metadata": {},
   "outputs": [
    {
     "data": {
      "text/plain": [
       "[1, 3, 5, 7, 9]"
      ]
     },
     "execution_count": 69,
     "metadata": {},
     "output_type": "execute_result"
    }
   ],
   "source": [
    "list(filter(lambda x: x%2!=0,l1))"
   ]
  },
  {
   "cell_type": "code",
   "execution_count": 72,
   "id": "5c679413-4642-44db-b3bb-2ef9d115f554",
   "metadata": {},
   "outputs": [
    {
     "data": {
      "text/plain": [
       "[True, False, True, False, True, False, True, False, True, False]"
      ]
     },
     "execution_count": 72,
     "metadata": {},
     "output_type": "execute_result"
    }
   ],
   "source": [
    "[(lambda x:x%2!=0)(x) for x in l1]"
   ]
  },
  {
   "cell_type": "code",
   "execution_count": null,
   "id": "d5469c45-96c9-4fca-88ca-cc1b7ba5751a",
   "metadata": {},
   "outputs": [],
   "source": [
    "# Sort a list of integers into positive and negative integers lists.\n",
    "# [1,2,3,4,5,6,-1,-2,-3,-4,-5,0]"
   ]
  },
  {
   "cell_type": "code",
   "execution_count": 74,
   "id": "d8d39731-99f7-4b53-8ba0-1dcd5cffde75",
   "metadata": {},
   "outputs": [
    {
     "name": "stdout",
     "output_type": "stream",
     "text": [
      "[<filter object at 0x7ffb4471e6b0>]\n"
     ]
    }
   ],
   "source": [
    "l1=[1,2,3,4,5,6,-1,-2,-3,-4,-5,0]\n",
    "positive=[filter(lambda x:x>0,l1)]\n",
    "print(positive)"
   ]
  },
  {
   "cell_type": "code",
   "execution_count": null,
   "id": "32df7e91-fc34-406a-ab69-10632b34056e",
   "metadata": {},
   "outputs": [],
   "source": []
  }
 ],
 "metadata": {
  "kernelspec": {
   "display_name": "Python 3 (ipykernel)",
   "language": "python",
   "name": "python3"
  },
  "language_info": {
   "codemirror_mode": {
    "name": "ipython",
    "version": 3
   },
   "file_extension": ".py",
   "mimetype": "text/x-python",
   "name": "python",
   "nbconvert_exporter": "python",
   "pygments_lexer": "ipython3",
   "version": "3.10.8"
  }
 },
 "nbformat": 4,
 "nbformat_minor": 5
}
