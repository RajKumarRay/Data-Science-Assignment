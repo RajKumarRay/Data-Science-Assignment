{
 "cells": [
  {
   "cell_type": "markdown",
   "id": "81a9de5f-cdf1-42f4-96b3-ca99ff52ede8",
   "metadata": {},
   "source": [
    "Question 1:"
   ]
  },
  {
   "cell_type": "code",
   "execution_count": null,
   "id": "22525564-bb85-4277-ad10-9c7562db65b3",
   "metadata": {},
   "outputs": [],
   "source": [
    "list1 = [1,2,3,4, [44,55,66, True], False, (34,56,78,89,34), {1,2,3,3,2,1}, {1:34, \"key2\": [55, 67, 78, 89], 4: (45,\n",
    "22, 61, 34)}, [56, 'data science'], 'Machine Learning']\n",
    "newlist=[]\n",
    "for i in list1:\n",
    "    if type(i)==int:\n",
    "        newlist.append(i);\n",
    "    elif type(i)==list or type(i)==tuple or type(i)==set:\n",
    "        for j in i:\n",
    "            if type(j) ==int:\n",
    "                newlist.append(j);\n",
    "    elif type(i)==dict:\n",
    "        for key,values in i.items():\n",
    "            if type(key)==int:\n",
    "                newlist.append(key)\n",
    "            if type(values)==int:\n",
    "                newlist.append(values)\n",
    "            elif type(values)==list or type(values)==tuple or type(values)==set:\n",
    "                for j in values:\n",
    "                    if type(j) ==int:\n",
    "                        newlist.append(j);\n",
    "print(newlist)\n",
    "      "
   ]
  },
  {
   "cell_type": "code",
   "execution_count": 2,
   "id": "ae507d08-b930-4d21-8354-dc353466cffe",
   "metadata": {},
   "outputs": [
    {
     "name": "stdout",
     "output_type": "stream",
     "text": [
      "Product==  4134711838987085478833841242112000\n"
     ]
    }
   ],
   "source": [
    "from functools import reduce\n",
    "print(\"Product== \",reduce(lambda x,y:x*y,newlist));"
   ]
  },
  {
   "cell_type": "markdown",
   "id": "0900c83b-51c8-4ace-bb2a-0e5080b34e07",
   "metadata": {},
   "source": [
    "Question 2:"
   ]
  },
  {
   "cell_type": "code",
   "execution_count": 14,
   "id": "023f8b75-52b4-4317-9284-e34ba724244d",
   "metadata": {},
   "outputs": [
    {
     "name": "stdout",
     "output_type": "stream",
     "text": [
      "8\n",
      "22\n",
      "0\n",
      "13\n",
      "19\n",
      "19\n",
      "14\n",
      "1\n",
      "4\n",
      "2\n",
      "14\n",
      "12\n",
      "4\n",
      "0\n",
      "3\n",
      "0\n",
      "19\n",
      "0\n",
      "18\n",
      "2\n",
      "8\n",
      "4\n",
      "13\n",
      "19\n",
      "8\n",
      "18\n",
      "19\n",
      "r$dzmg$gl$yvxlnv$z$wzgz$hxrvmgrhg\n"
     ]
    }
   ],
   "source": [
    "# \n",
    "Sentence=\"I want to become a Data Scientist.\"\n",
    "Sentence=Sentence.lower()\n",
    "s=\"abcdefghijklmnopqrstuvwxyz\";\n",
    "NewSentence=\"\"\n",
    "for i in Sentence:\n",
    "    if i ==' ':\n",
    "        NewSentence+='$';\n",
    "    elif i>='a' and i<='z':\n",
    "        k=s.find(i);\n",
    "        print(k)\n",
    "        k=25-k;\n",
    "        NewSentence+=s[k]\n",
    "    else:\n",
    "        NewSentence+=i;\n",
    "\n",
    "print(NewSentence)"
   ]
  },
  {
   "cell_type": "code",
   "execution_count": null,
   "id": "3433dea0-e180-4e8e-b947-6d055ef61de1",
   "metadata": {},
   "outputs": [],
   "source": []
  }
 ],
 "metadata": {
  "kernelspec": {
   "display_name": "Python 3 (ipykernel)",
   "language": "python",
   "name": "python3"
  },
  "language_info": {
   "codemirror_mode": {
    "name": "ipython",
    "version": 3
   },
   "file_extension": ".py",
   "mimetype": "text/x-python",
   "name": "python",
   "nbconvert_exporter": "python",
   "pygments_lexer": "ipython3",
   "version": "3.10.8"
  }
 },
 "nbformat": 4,
 "nbformat_minor": 5
}
